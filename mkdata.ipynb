{
 "cells": [
  {
   "cell_type": "code",
   "execution_count": 2,
   "id": "21c3dbef-841e-4b87-9d30-1163d6b65a68",
   "metadata": {},
   "outputs": [
    {
     "data": {
      "application/vnd.jupyter.widget-view+json": {
       "model_id": "3075bda990fb478ca6ae6b7c54d0480a",
       "version_major": 2,
       "version_minor": 0
      },
      "text/plain": [
       "  0%|          | 0/30387 [00:00<?, ?it/s]"
      ]
     },
     "metadata": {},
     "output_type": "display_data"
    }
   ],
   "source": [
    "from tqdm.notebook import tqdm\n",
    "\n",
    "file_path = '../TTS/JS_Dataset/wavs/audio_ann_sum.txt'\n",
    "\n",
    "# Step 1: Read all lines from the file\n",
    "with open(file_path, 'r', encoding='utf-8') as f:\n",
    "    lines = [line.strip() for line in f if line.strip()]\n",
    "\n",
    "write_lines = []\n",
    "for line in tqdm(lines):\n",
    "    crop = line.split('|')\n",
    "    file_name = crop[0]\n",
    "    text = crop[-1].replace('[ZH]','')\n",
    "    write_lines.append(f'{file_name}|{text}|{text}')\n",
    "write_lines = [line if line.endswith('\\n') else line + '\\n' for line in write_lines]\n",
    "\n",
    "# Step 3: Write the remaining lines back to the file\n",
    "with open('metadata.csv', 'w', encoding='utf-8') as f:\n",
    "    f.writelines(write_lines)"
   ]
  },
  {
   "cell_type": "code",
   "execution_count": null,
   "id": "61436dbb-19ce-4dec-93fe-b441b59dd8cb",
   "metadata": {},
   "outputs": [],
   "source": []
  }
 ],
 "metadata": {
  "kernelspec": {
   "display_name": "Python 3 (ipykernel)",
   "language": "python",
   "name": "python3"
  },
  "language_info": {
   "codemirror_mode": {
    "name": "ipython",
    "version": 3
   },
   "file_extension": ".py",
   "mimetype": "text/x-python",
   "name": "python",
   "nbconvert_exporter": "python",
   "pygments_lexer": "ipython3",
   "version": "3.10.12"
  }
 },
 "nbformat": 4,
 "nbformat_minor": 5
}
